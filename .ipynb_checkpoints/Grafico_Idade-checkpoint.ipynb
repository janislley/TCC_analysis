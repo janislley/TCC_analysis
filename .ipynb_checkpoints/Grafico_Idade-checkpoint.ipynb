{
 "cells": [
  {
   "cell_type": "code",
   "execution_count": 25,
   "id": "70fd06e5",
   "metadata": {},
   "outputs": [
    {
     "data": {
      "image/png": "[encoded data removed]",
      "text/plain": [
       "<Figure size 1080x360 with 1 Axes>"
      ]
     },
     "metadata": {
      "needs_background": "light"
     },
     "output_type": "display_data"
    },
    {
     "data": {
      "text/plain": [
       "<Figure size 7200x1440 with 0 Axes>"
      ]
     },
     "metadata": {},
     "output_type": "display_data"
    }
   ],
   "source": [
    "import os\n",
    "import numpy as np\n",
    "from matplotlib import pyplot as plt\n",
    "\n",
    "\n",
    "idade = [\"24\", \n",
    "         \"26\", \n",
    "         \"27\",\n",
    "         \"28\", \n",
    "         \"29\", \n",
    "         \"30\",\n",
    "         \"31\", \n",
    "         \"32\", \n",
    "         \"33\",\n",
    "         \"34\", \n",
    "         \"35\", \n",
    "         \"36\",\n",
    "         \"37\", \n",
    "         \"38\", \n",
    "         \"39\",\n",
    "         \"40\", \n",
    "         \"41\", \n",
    "         \"42\",\n",
    "         \"43\", \n",
    "         \"44\", \n",
    "         \"45\",\n",
    "         \"46\", \n",
    "         \"47\", \n",
    "         \"48\",\n",
    "         \"49\", \n",
    "         \"50\", \n",
    "         \"52\", \n",
    "         \"53\",\n",
    "         \"54\", \n",
    "         \"55\", \n",
    "         \"56\",\n",
    "         \"57\", \n",
    "         \"58\"]\n",
    "valores = [3, 4, 3, 4, 3, 3, 2, 5, 6, 1, 5, 3, 7, 5, 4, 2, 1, 5, 2, 6, 4, 1, 7, 2, 4, 1, 5, 2, 2, 1, 3, 1, 1]\n",
    "\n",
    "plt.figure(figsize=(15,5))\n",
    "plt.bar(idade, valores, color=\"black\")\n",
    "plt.xlabel('Idade dos participantes do estudo.')\n",
    "plt.ylabel('Quantidade.')\n",
    "\n",
    "for i in range(len(valores)):\n",
    "    plt.annotate(str(valores[i]), xy=(idade[i],valores[i]), ha='center', va='bottom')\n",
    "\n",
    "plt.show()\n",
    "\n",
    "plt.savefig('books_read.png')"
   ]
  },
  {
   "cell_type": "code",
   "execution_count": null,
   "id": "4c7c1b6f",
   "metadata": {},
   "outputs": [],
   "source": []
  }
 ],
 "metadata": {
  "kernelspec": {
   "display_name": "Python 3 (ipykernel)",
   "language": "python",
   "name": "python3"
  },
  "language_info": {
   "codemirror_mode": {
    "name": "ipython",
    "version": 3
   },
   "file_extension": ".py",
   "mimetype": "text/x-python",
   "name": "python",
   "nbconvert_exporter": "python",
   "pygments_lexer": "ipython3",
   "version": "3.8.10"
  }
 },
 "nbformat": 4,
 "nbformat_minor": 5
}
