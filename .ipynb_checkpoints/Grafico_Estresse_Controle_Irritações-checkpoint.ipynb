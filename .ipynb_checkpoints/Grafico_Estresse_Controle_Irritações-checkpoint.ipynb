{
 "cells": [
  {
   "cell_type": "code",
   "execution_count": 2,
   "id": "d974544a",
   "metadata": {},
   "outputs": [
    {
     "data": {
      "image/png": "[encoded data removed]",
      "text/plain": [
       "<Figure size 432x288 with 1 Axes>"
      ]
     },
     "metadata": {
      "needs_background": "light"
     },
     "output_type": "display_data"
    },
    {
     "data": {
      "text/plain": [
       "<Figure size 432x288 with 0 Axes>"
      ]
     },
     "metadata": {},
     "output_type": "display_data"
    }
   ],
   "source": [
    "import os\n",
    "import numpy as np\n",
    "from matplotlib import pyplot as plt\n",
    "\n",
    "\n",
    "sentimento = [\"Nunca\",\n",
    "              \"Frequentemente\", \n",
    "              \"A maior parte do tempo\", \n",
    "              \"As vezes\"]\n",
    "valores = [4, 13, 15, 76]\n",
    "\n",
    "fig, ax = plt.subplots()    \n",
    "width = 0.5 # the width of the bars \n",
    "ind = np.arange(len(valores))  # the x locations for the groups\n",
    "ax.barh(ind, valores, width, color=\"black\")\n",
    "ax.set_yticks(ind)\n",
    "ax.set_yticklabels(sentimento, minor=False)\n",
    "\n",
    "plt.xlabel('Quantidade de pessoas.')\n",
    "\n",
    "for i, v in enumerate(valores):\n",
    "    ax.text(v, i, \" \"+str(v), color='black', va='center')\n",
    "\n",
    "plt.show()\n",
    "\n",
    "plt.savefig('books_read.png')"
   ]
  },
  {
   "cell_type": "code",
   "execution_count": null,
   "id": "6af84edc",
   "metadata": {},
   "outputs": [],
   "source": []
  }
 ],
 "metadata": {
  "kernelspec": {
   "display_name": "Python 3 (ipykernel)",
   "language": "python",
   "name": "python3"
  },
  "language_info": {
   "codemirror_mode": {
    "name": "ipython",
    "version": 3
   },
   "file_extension": ".py",
   "mimetype": "text/x-python",
   "name": "python",
   "nbconvert_exporter": "python",
   "pygments_lexer": "ipython3",
   "version": "3.8.10"
  }
 },
 "nbformat": 4,
 "nbformat_minor": 5
}
