{
 "cells": [
  {
   "cell_type": "code",
   "execution_count": 10,
   "id": "d3552aa4",
   "metadata": {},
   "outputs": [
    {
     "data": {
      "image/png": "[encoded data removed]",
      "text/plain": [
       "<Figure size 432x432 with 1 Axes>"
      ]
     },
     "metadata": {
      "needs_background": "light"
     },
     "output_type": "display_data"
    },
    {
     "data": {
      "text/plain": [
       "<Figure size 432x288 with 0 Axes>"
      ]
     },
     "metadata": {},
     "output_type": "display_data"
    }
   ],
   "source": [
    "import os\n",
    "import numpy as np\n",
    "from matplotlib import pyplot as plt\n",
    "\n",
    "\n",
    "escolaridade = [\"Receoso\", \n",
    "        \"Muito Preocupado\", \n",
    "        \"Tranquilo\", \n",
    "        \"Empolgado\"]\n",
    "valores = [60, 32, 15, 1]\n",
    "\n",
    "plt.figure(figsize=(6,6))\n",
    "pps = plt.bar(escolaridade, valores, width=0.5, color=\"black\")\n",
    "plt.xlabel('Tipos de sentimentos.')\n",
    "plt.ylabel('Quantidade de pessoas.')\n",
    "\n",
    "for i in range(len(valores)):\n",
    "    plt.annotate(str(valores[i]), xy=(escolaridade[i],valores[i]), ha='center', va='bottom')\n",
    "\n",
    "plt.show()\n",
    "\n",
    "plt.savefig('books_read.png')"
   ]
  },
  {
   "cell_type": "code",
   "execution_count": null,
   "id": "310b5f8f",
   "metadata": {},
   "outputs": [],
   "source": []
  }
 ],
 "metadata": {
  "kernelspec": {
   "display_name": "Python 3 (ipykernel)",
   "language": "python",
   "name": "python3"
  },
  "language_info": {
   "codemirror_mode": {
    "name": "ipython",
    "version": 3
   },
   "file_extension": ".py",
   "mimetype": "text/x-python",
   "name": "python",
   "nbconvert_exporter": "python",
   "pygments_lexer": "ipython3",
   "version": "3.8.10"
  }
 },
 "nbformat": 4,
 "nbformat_minor": 5
}
