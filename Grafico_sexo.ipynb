{
 "cells": [
  {
   "cell_type": "code",
   "execution_count": 69,
   "id": "03130538",
   "metadata": {},
   "outputs": [
    {
     "data": {
      "image/png": "[encoded data removed]",
      "text/plain": [
       "<Figure size 216x288 with 1 Axes>"
      ]
     },
     "metadata": {
      "needs_background": "light"
     },
     "output_type": "display_data"
    },
    {
     "data": {
      "text/plain": [
       "<Figure size 432x288 with 0 Axes>"
      ]
     },
     "metadata": {},
     "output_type": "display_data"
    }
   ],
   "source": [
    "import os\n",
    "import numpy as np\n",
    "from matplotlib import pyplot as plt\n",
    "\n",
    "\n",
    "sexo = [\"Feminino\", \n",
    "         \"Masculino\"]\n",
    "valores = [88, 20]\n",
    "\n",
    "plt.figure(figsize=(3,4))\n",
    "pps = plt.bar(sexo, sorted(valores, reverse=True), width=0.5, color=\"black\")\n",
    "plt.xlabel('Sexo.')\n",
    "plt.ylabel('Quantidade.')\n",
    "\n",
    "for i in range(len(valores)):\n",
    "    plt.annotate(str(valores[i]), xy=(sexo[i],valores[i]), ha='center', va='bottom')\n",
    "\n",
    "plt.show()\n",
    "\n",
    "plt.savefig('books_read.png')"
   ]
  },
  {
   "cell_type": "code",
   "execution_count": null,
   "id": "ebbd0d07",
   "metadata": {},
   "outputs": [],
   "source": []
  },
  {
   "cell_type": "code",
   "execution_count": null,
   "id": "cbd61ab9",
   "metadata": {},
   "outputs": [],
   "source": []
  }
 ],
 "metadata": {
  "kernelspec": {
   "display_name": "Python 3 (ipykernel)",
   "language": "python",
   "name": "python3"
  },
  "language_info": {
   "codemirror_mode": {
    "name": "ipython",
    "version": 3
   },
   "file_extension": ".py",
   "mimetype": "text/x-python",
   "name": "python",
   "nbconvert_exporter": "python",
   "pygments_lexer": "ipython3",
   "version": "3.8.10"
  }
 },
 "nbformat": 4,
 "nbformat_minor": 5
}
