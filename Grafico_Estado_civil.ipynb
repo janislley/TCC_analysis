{
 "cells": [
  {
   "cell_type": "code",
   "execution_count": 12,
   "id": "783aab29",
   "metadata": {},
   "outputs": [
    {
     "data": {
      "image/png": "[encoded data removed]",
      "text/plain": [
       "<Figure size 288x288 with 1 Axes>"
      ]
     },
     "metadata": {
      "needs_background": "light"
     },
     "output_type": "display_data"
    },
    {
     "data": {
      "text/plain": [
       "<Figure size 432x288 with 0 Axes>"
      ]
     },
     "metadata": {},
     "output_type": "display_data"
    }
   ],
   "source": [
    "import os\n",
    "import numpy as np\n",
    "from matplotlib import pyplot as plt\n",
    "\n",
    "\n",
    "estado_civil = [\"Casado\", \n",
    "        \"Solteiro\", \n",
    "        \"Divorciado\", \n",
    "        \"Viúvo\"]\n",
    "valores = [60, 43, 3, 1]\n",
    "\n",
    "plt.figure(figsize=(4,4))\n",
    "pps = plt.bar(estado_civil, valores, width=0.5, color=\"black\")\n",
    "plt.xlabel('Estado civil.')\n",
    "plt.ylabel('Quantidade de pessoas.')\n",
    "\n",
    "for i in range(len(valores)):\n",
    "    plt.annotate(str(valores[i]), xy=(estado_civil[i],valores[i]), ha='center', va='bottom')\n",
    "\n",
    "plt.show()\n",
    "\n",
    "plt.savefig('books_read.png')"
   ]
  },
  {
   "cell_type": "code",
   "execution_count": null,
   "id": "a6f1e4e1",
   "metadata": {},
   "outputs": [],
   "source": []
  }
 ],
 "metadata": {
  "kernelspec": {
   "display_name": "Python 3 (ipykernel)",
   "language": "python",
   "name": "python3"
  },
  "language_info": {
   "codemirror_mode": {
    "name": "ipython",
    "version": 3
   },
   "file_extension": ".py",
   "mimetype": "text/x-python",
   "name": "python",
   "nbconvert_exporter": "python",
   "pygments_lexer": "ipython3",
   "version": "3.8.10"
  }
 },
 "nbformat": 4,
 "nbformat_minor": 5
}
